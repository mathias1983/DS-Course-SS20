{
 "cells": [
  {
   "cell_type": "code",
   "execution_count": 3,
   "metadata": {},
   "outputs": [],
   "source": [
    "import pandas as pd\n",
    "import os\n",
    "import numpy as np\n",
    "import matplotlib.pyplot as plt\n",
    "import seaborn as sns\n",
    "%matplotlib inline"
   ]
  },
  {
   "cell_type": "code",
   "execution_count": 12,
   "metadata": {},
   "outputs": [
    {
     "data": {
      "text/plain": "   transactionId                             basket  zipCode  totalAmount  \\\n0     1007115501  [4, 1, 5, 2, 2, 3, 4, 0, 4, 0, 3]     1838          891   \n1     3580371052                 [5, 5, 1, 5, 1, 2]     2413          396   \n2     6590707155                 [1, 2, 2, 3, 0, 2]     8821          660   \n3     3727164678                 [1, 1, 1, 4, 1, 4]     7065          216   \n4     1926170114                                [4]     2072           87   \n\n   returnLabel  \n0            0  \n1            0  \n2            0  \n3            0  \n4            0  ",
      "text/html": "<div>\n<style scoped>\n    .dataframe tbody tr th:only-of-type {\n        vertical-align: middle;\n    }\n\n    .dataframe tbody tr th {\n        vertical-align: top;\n    }\n\n    .dataframe thead th {\n        text-align: right;\n    }\n</style>\n<table border=\"1\" class=\"dataframe\">\n  <thead>\n    <tr style=\"text-align: right;\">\n      <th></th>\n      <th>transactionId</th>\n      <th>basket</th>\n      <th>zipCode</th>\n      <th>totalAmount</th>\n      <th>returnLabel</th>\n    </tr>\n  </thead>\n  <tbody>\n    <tr>\n      <th>0</th>\n      <td>1007115501</td>\n      <td>[4, 1, 5, 2, 2, 3, 4, 0, 4, 0, 3]</td>\n      <td>1838</td>\n      <td>891</td>\n      <td>0</td>\n    </tr>\n    <tr>\n      <th>1</th>\n      <td>3580371052</td>\n      <td>[5, 5, 1, 5, 1, 2]</td>\n      <td>2413</td>\n      <td>396</td>\n      <td>0</td>\n    </tr>\n    <tr>\n      <th>2</th>\n      <td>6590707155</td>\n      <td>[1, 2, 2, 3, 0, 2]</td>\n      <td>8821</td>\n      <td>660</td>\n      <td>0</td>\n    </tr>\n    <tr>\n      <th>3</th>\n      <td>3727164678</td>\n      <td>[1, 1, 1, 4, 1, 4]</td>\n      <td>7065</td>\n      <td>216</td>\n      <td>0</td>\n    </tr>\n    <tr>\n      <th>4</th>\n      <td>1926170114</td>\n      <td>[4]</td>\n      <td>2072</td>\n      <td>87</td>\n      <td>0</td>\n    </tr>\n  </tbody>\n</table>\n</div>"
     },
     "execution_count": 12,
     "metadata": {},
     "output_type": "execute_result"
    }
   ],
   "source": [
    "# Load the data in a data frame and execute the head function.\n",
    "directory = os.fsencode('data/return-data')\n",
    "\n",
    "df = []\n",
    "\n",
    "for filename in os.listdir(directory):\n",
    "    file = os.path.join(directory, filename).decode(\"utf-8\")\n",
    "    df.append(pd.read_json(file, lines=True))\n",
    "   \n",
    "train = pd.concat(df)\n",
    "train.head()"
   ]
  },
  {
   "cell_type": "code",
   "execution_count": 5,
   "metadata": {},
   "outputs": [],
   "source": [
    "# Use the column \"returnLabel\" as the target variable.\n",
    "# Use the column \"totalAmount\" as a feature (yes, we only use one feature in this exercise).\n",
    "\n",
    "totalAmount = pd.get_dummies(train['totalAmount'],drop_first=True)"
   ]
  },
  {
   "cell_type": "code",
   "execution_count": 6,
   "metadata": {},
   "outputs": [
    {
     "data": {
      "text/plain": "   totalAmount  returnLabel  11  12  13  14  15  16  17  18  ...  1380  1391  \\\n0          891            0   0   0   0   0   0   0   0   0  ...     0     0   \n1          396            0   0   0   0   0   0   0   0   0  ...     0     0   \n2          660            0   0   0   0   0   0   0   0   0  ...     0     0   \n3          216            0   0   0   0   0   0   0   0   0  ...     0     0   \n4           87            0   0   0   0   0   0   0   0   0  ...     0     0   \n\n   1397  1400  1408  1452  1512  1560  1694  1720  \n0     0     0     0     0     0     0     0     0  \n1     0     0     0     0     0     0     0     0  \n2     0     0     0     0     0     0     0     0  \n3     0     0     0     0     0     0     0     0  \n4     0     0     0     0     0     0     0     0  \n\n[5 rows x 746 columns]",
      "text/html": "<div>\n<style scoped>\n    .dataframe tbody tr th:only-of-type {\n        vertical-align: middle;\n    }\n\n    .dataframe tbody tr th {\n        vertical-align: top;\n    }\n\n    .dataframe thead th {\n        text-align: right;\n    }\n</style>\n<table border=\"1\" class=\"dataframe\">\n  <thead>\n    <tr style=\"text-align: right;\">\n      <th></th>\n      <th>totalAmount</th>\n      <th>returnLabel</th>\n      <th>11</th>\n      <th>12</th>\n      <th>13</th>\n      <th>14</th>\n      <th>15</th>\n      <th>16</th>\n      <th>17</th>\n      <th>18</th>\n      <th>...</th>\n      <th>1380</th>\n      <th>1391</th>\n      <th>1397</th>\n      <th>1400</th>\n      <th>1408</th>\n      <th>1452</th>\n      <th>1512</th>\n      <th>1560</th>\n      <th>1694</th>\n      <th>1720</th>\n    </tr>\n  </thead>\n  <tbody>\n    <tr>\n      <th>0</th>\n      <td>891</td>\n      <td>0</td>\n      <td>0</td>\n      <td>0</td>\n      <td>0</td>\n      <td>0</td>\n      <td>0</td>\n      <td>0</td>\n      <td>0</td>\n      <td>0</td>\n      <td>...</td>\n      <td>0</td>\n      <td>0</td>\n      <td>0</td>\n      <td>0</td>\n      <td>0</td>\n      <td>0</td>\n      <td>0</td>\n      <td>0</td>\n      <td>0</td>\n      <td>0</td>\n    </tr>\n    <tr>\n      <th>1</th>\n      <td>396</td>\n      <td>0</td>\n      <td>0</td>\n      <td>0</td>\n      <td>0</td>\n      <td>0</td>\n      <td>0</td>\n      <td>0</td>\n      <td>0</td>\n      <td>0</td>\n      <td>...</td>\n      <td>0</td>\n      <td>0</td>\n      <td>0</td>\n      <td>0</td>\n      <td>0</td>\n      <td>0</td>\n      <td>0</td>\n      <td>0</td>\n      <td>0</td>\n      <td>0</td>\n    </tr>\n    <tr>\n      <th>2</th>\n      <td>660</td>\n      <td>0</td>\n      <td>0</td>\n      <td>0</td>\n      <td>0</td>\n      <td>0</td>\n      <td>0</td>\n      <td>0</td>\n      <td>0</td>\n      <td>0</td>\n      <td>...</td>\n      <td>0</td>\n      <td>0</td>\n      <td>0</td>\n      <td>0</td>\n      <td>0</td>\n      <td>0</td>\n      <td>0</td>\n      <td>0</td>\n      <td>0</td>\n      <td>0</td>\n    </tr>\n    <tr>\n      <th>3</th>\n      <td>216</td>\n      <td>0</td>\n      <td>0</td>\n      <td>0</td>\n      <td>0</td>\n      <td>0</td>\n      <td>0</td>\n      <td>0</td>\n      <td>0</td>\n      <td>0</td>\n      <td>...</td>\n      <td>0</td>\n      <td>0</td>\n      <td>0</td>\n      <td>0</td>\n      <td>0</td>\n      <td>0</td>\n      <td>0</td>\n      <td>0</td>\n      <td>0</td>\n      <td>0</td>\n    </tr>\n    <tr>\n      <th>4</th>\n      <td>87</td>\n      <td>0</td>\n      <td>0</td>\n      <td>0</td>\n      <td>0</td>\n      <td>0</td>\n      <td>0</td>\n      <td>0</td>\n      <td>0</td>\n      <td>0</td>\n      <td>...</td>\n      <td>0</td>\n      <td>0</td>\n      <td>0</td>\n      <td>0</td>\n      <td>0</td>\n      <td>0</td>\n      <td>0</td>\n      <td>0</td>\n      <td>0</td>\n      <td>0</td>\n    </tr>\n  </tbody>\n</table>\n<p>5 rows × 746 columns</p>\n</div>"
     },
     "execution_count": 6,
     "metadata": {},
     "output_type": "execute_result"
    }
   ],
   "source": [
    "train.drop(['basket','transactionId','zipCode'],axis=1,inplace=True)\n",
    "train = pd.concat([train,totalAmount],axis=1)\n",
    "train.head()"
   ]
  },
  {
   "cell_type": "code",
   "execution_count": 7,
   "metadata": {},
   "outputs": [],
   "source": [
    "# Do a train/test data split.\n",
    "from sklearn.model_selection import train_test_split\n",
    "\n",
    "X_train, X_test, y_train, y_test = train_test_split(\n",
    "    train.drop('returnLabel',axis=1),\n",
    "    train['returnLabel'], \n",
    "    test_size=0.30,\n",
    "    random_state=101\n",
    ")"
   ]
  },
  {
   "cell_type": "code",
   "execution_count": 8,
   "metadata": {},
   "outputs": [],
   "source": [
    "# Train a logistic regression model on the train data.\n",
    "from sklearn.linear_model import LogisticRegression\n",
    "logmodel = LogisticRegression(solver='lbfgs')\n",
    "logmodel.fit(X_train,y_train)\n",
    "predictions = logmodel.predict(X_test)"
   ]
  },
  {
   "cell_type": "code",
   "execution_count": 9,
   "metadata": {},
   "outputs": [
    {
     "name": "stdout",
     "output_type": "stream",
     "text": [
      "              precision    recall  f1-score   support\n",
      "\n",
      "           0       0.98      1.00      0.99      9069\n",
      "           1       0.00      0.00      0.00       231\n",
      "\n",
      "    accuracy                           0.98      9300\n",
      "   macro avg       0.49      0.50      0.49      9300\n",
      "weighted avg       0.95      0.98      0.96      9300\n",
      "\n",
      "Accuracy: 0.9751612903225807\n"
     ]
    },
    {
     "name": "stderr",
     "output_type": "stream",
     "text": [
      "/home/mathias/PyCharmProjects/DataScience/venv/lib/python3.7/site-packages/sklearn/metrics/_classification.py:1221: UndefinedMetricWarning: Precision and F-score are ill-defined and being set to 0.0 in labels with no predicted samples. Use `zero_division` parameter to control this behavior.\n",
      "  _warn_prf(average, modifier, msg_start, len(result))\n"
     ]
    }
   ],
   "source": [
    "# Evaluate your classifier on the test data and print the results.\n",
    "from sklearn.metrics import classification_report\n",
    "from sklearn.metrics import accuracy_score\n",
    "print(classification_report(y_test,predictions))\n",
    "print(\"Accuracy:\",accuracy_score(y_test, predictions))"
   ]
  }
 ],
 "metadata": {
  "kernelspec": {
   "display_name": "Python 3",
   "language": "python",
   "name": "python3"
  },
  "language_info": {
   "codemirror_mode": {
    "name": "ipython",
    "version": 3
   },
   "file_extension": ".py",
   "mimetype": "text/x-python",
   "name": "python",
   "nbconvert_exporter": "python",
   "pygments_lexer": "ipython3",
   "version": "3.7.3"
  }
 },
 "nbformat": 4,
 "nbformat_minor": 2
}