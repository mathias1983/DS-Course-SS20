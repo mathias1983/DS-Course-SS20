{
 "cells": [
  {
   "cell_type": "code",
   "execution_count": 1,
   "metadata": {},
   "outputs": [],
   "source": [
    "import pandas as pd\n",
    "import os\n",
    "import numpy as np\n",
    "import matplotlib.pyplot as plt\n",
    "import seaborn as sns\n",
    "%matplotlib inline"
   ]
  },
  {
   "cell_type": "code",
   "execution_count": 2,
   "metadata": {},
   "outputs": [
    {
     "data": {
      "text/html": [
       "<div>\n",
       "<style scoped>\n",
       "    .dataframe tbody tr th:only-of-type {\n",
       "        vertical-align: middle;\n",
       "    }\n",
       "\n",
       "    .dataframe tbody tr th {\n",
       "        vertical-align: top;\n",
       "    }\n",
       "\n",
       "    .dataframe thead th {\n",
       "        text-align: right;\n",
       "    }\n",
       "</style>\n",
       "<table border=\"1\" class=\"dataframe\">\n",
       "  <thead>\n",
       "    <tr style=\"text-align: right;\">\n",
       "      <th></th>\n",
       "      <th>basket</th>\n",
       "      <th>returnLabel</th>\n",
       "      <th>totalAmount</th>\n",
       "      <th>transactionId</th>\n",
       "      <th>zipCode</th>\n",
       "    </tr>\n",
       "  </thead>\n",
       "  <tbody>\n",
       "    <tr>\n",
       "      <th>0</th>\n",
       "      <td>[4, 1, 5, 2, 2, 3, 4, 0, 4, 0, 3]</td>\n",
       "      <td>0</td>\n",
       "      <td>891</td>\n",
       "      <td>1007115501</td>\n",
       "      <td>1838</td>\n",
       "    </tr>\n",
       "    <tr>\n",
       "      <th>1</th>\n",
       "      <td>[5, 5, 1, 5, 1, 2]</td>\n",
       "      <td>0</td>\n",
       "      <td>396</td>\n",
       "      <td>3580371052</td>\n",
       "      <td>2413</td>\n",
       "    </tr>\n",
       "    <tr>\n",
       "      <th>2</th>\n",
       "      <td>[1, 2, 2, 3, 0, 2]</td>\n",
       "      <td>0</td>\n",
       "      <td>660</td>\n",
       "      <td>6590707155</td>\n",
       "      <td>8821</td>\n",
       "    </tr>\n",
       "    <tr>\n",
       "      <th>3</th>\n",
       "      <td>[1, 1, 1, 4, 1, 4]</td>\n",
       "      <td>0</td>\n",
       "      <td>216</td>\n",
       "      <td>3727164678</td>\n",
       "      <td>7065</td>\n",
       "    </tr>\n",
       "    <tr>\n",
       "      <th>4</th>\n",
       "      <td>[4]</td>\n",
       "      <td>0</td>\n",
       "      <td>87</td>\n",
       "      <td>1926170114</td>\n",
       "      <td>2072</td>\n",
       "    </tr>\n",
       "  </tbody>\n",
       "</table>\n",
       "</div>"
      ],
      "text/plain": [
       "                              basket  returnLabel  totalAmount  transactionId  \\\n",
       "0  [4, 1, 5, 2, 2, 3, 4, 0, 4, 0, 3]            0          891     1007115501   \n",
       "1                 [5, 5, 1, 5, 1, 2]            0          396     3580371052   \n",
       "2                 [1, 2, 2, 3, 0, 2]            0          660     6590707155   \n",
       "3                 [1, 1, 1, 4, 1, 4]            0          216     3727164678   \n",
       "4                                [4]            0           87     1926170114   \n",
       "\n",
       "   zipCode  \n",
       "0     1838  \n",
       "1     2413  \n",
       "2     8821  \n",
       "3     7065  \n",
       "4     2072  "
      ]
     },
     "execution_count": 2,
     "metadata": {},
     "output_type": "execute_result"
    }
   ],
   "source": [
    "# Load the data in a data frame and execute the head function.\n",
    "directory = os.fsencode('/home/mathias/PhpstormProjects/DataScience/week5/data/return-data')\n",
    "\n",
    "df = []\n",
    "\n",
    "for filename in os.listdir(directory):\n",
    "    file = os.path.join(directory, filename).decode(\"utf-8\")\n",
    "    df.append(pd.read_json(file, lines=True))\n",
    "   \n",
    "train = pd.concat(df)\n",
    "train.head()"
   ]
  },
  {
   "cell_type": "code",
   "execution_count": 3,
   "metadata": {},
   "outputs": [
    {
     "name": "stdout",
     "output_type": "stream",
     "text": [
      "              precision    recall  f1-score   support\n",
      "\n",
      "           0       0.98      1.00      0.99      9069\n",
      "           1       0.00      0.00      0.00       231\n",
      "\n",
      "   micro avg       0.98      0.98      0.98      9300\n",
      "   macro avg       0.49      0.50      0.49      9300\n",
      "weighted avg       0.95      0.98      0.96      9300\n",
      "\n",
      "Accuracy: 0.9751612903225807\n"
     ]
    },
    {
     "name": "stderr",
     "output_type": "stream",
     "text": [
      "/home/mathias/anaconda3/lib/python3.7/site-packages/sklearn/metrics/classification.py:1143: UndefinedMetricWarning: Precision and F-score are ill-defined and being set to 0.0 in labels with no predicted samples.\n",
      "  'precision', 'predicted', average, warn_for)\n",
      "/home/mathias/anaconda3/lib/python3.7/site-packages/sklearn/metrics/classification.py:1143: UndefinedMetricWarning: Precision and F-score are ill-defined and being set to 0.0 in labels with no predicted samples.\n",
      "  'precision', 'predicted', average, warn_for)\n",
      "/home/mathias/anaconda3/lib/python3.7/site-packages/sklearn/metrics/classification.py:1143: UndefinedMetricWarning: Precision and F-score are ill-defined and being set to 0.0 in labels with no predicted samples.\n",
      "  'precision', 'predicted', average, warn_for)\n"
     ]
    }
   ],
   "source": [
    "zipCode = pd.get_dummies(train['totalAmount'],drop_first=True)\n",
    "train.drop(['basket','transactionId', 'totalAmount'],axis=1,inplace=True)\n",
    "train = pd.concat([train,zipCode],axis=1)\n",
    "\n",
    "from sklearn.model_selection import train_test_split\n",
    "from sklearn.metrics import classification_report\n",
    "\n",
    "X_train, X_test, y_train, y_test = train_test_split(\n",
    "    train.drop('returnLabel',axis=1),\n",
    "    train['returnLabel'], \n",
    "    test_size=0.30,\n",
    "    random_state=101\n",
    ")\n",
    "from sklearn.linear_model import LogisticRegression\n",
    "from sklearn.metrics import accuracy_score\n",
    "logmodel = LogisticRegression(solver='lbfgs')\n",
    "logmodel.fit(X_train,y_train)\n",
    "predictions = logmodel.predict(X_test)\n",
    "\n",
    "print(classification_report(y_test,predictions))\n",
    "print(\"Accuracy:\",accuracy_score(y_test, predictions))\n",
    "\n"
   ]
  },
  {
   "cell_type": "code",
   "execution_count": 4,
   "metadata": {},
   "outputs": [],
   "source": [
    "#outcome for exercise 1 and 2 is equal\n",
    "\n",
    "\n"
   ]
  },
  {
   "cell_type": "code",
   "execution_count": null,
   "metadata": {},
   "outputs": [],
   "source": [
    "\n"
   ]
  }
 ],
 "metadata": {
  "kernelspec": {
   "display_name": "Python 3",
   "language": "python",
   "name": "python3"
  },
  "language_info": {
   "codemirror_mode": {
    "name": "ipython",
    "version": 3
   },
   "file_extension": ".py",
   "mimetype": "text/x-python",
   "name": "python",
   "nbconvert_exporter": "python",
   "pygments_lexer": "ipython3",
   "version": "3.7.3"
  }
 },
 "nbformat": 4,
 "nbformat_minor": 2
}
