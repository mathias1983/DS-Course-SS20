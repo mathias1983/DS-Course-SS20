{
 "cells": [
  {
   "cell_type": "code",
   "execution_count": 70,
   "outputs": [],
   "source": [
    "import numpy as np\n",
    "import math\n",
    "from scipy.stats import mode\n",
    "np.set_printoptions(precision=5, suppress=True)\n",
    "np.set_printoptions(edgeitems=30, linewidth=100000, \n",
    "formatter=dict(float=lambda x: \"%.3g\" % x))"
   ],
   "metadata": {
    "collapsed": false,
    "pycharm": {
     "name": "#%%\n"
    }
   }
  },
  {
   "cell_type": "markdown",
   "source": [
    "## Dataset"
   ],
   "metadata": {
    "collapsed": false
   }
  },
  {
   "cell_type": "code",
   "execution_count": 71,
   "outputs": [],
   "source": [
    "dataset = np.array(\n",
    "        [[\"Movie Title\",                   \"kicks\",  \"kisses\",    \"movie type\"],\n",
    "        [\"California Man\",                     3,         104,       \"Romance\"],\n",
    "        [\"He's not reall into dudes\",          2,         100,       \"Romance\"],\n",
    "        [\"Beautiful Woman\",                    1,          81,       \"Romance\"],\n",
    "        [\"Kevin Longblade\",                  101,          10,        \"Action\"],\n",
    "        [\"Robo Slayer 3000\",                  99,           5,        \"Action\"],\n",
    "        [\"Amped\",                             98,           2,        \"Action\"]]\n",
    ");\n"
   ],
   "metadata": {
    "collapsed": false,
    "pycharm": {
     "name": "#%%\n"
    }
   }
  },
  {
   "cell_type": "markdown",
   "source": [
    "## Functions"
   ],
   "metadata": {
    "collapsed": false
   }
  },
  {
   "cell_type": "code",
   "execution_count": 72,
   "outputs": [],
   "source": [
    "def normalize_column(col_):\n",
    "  min_ = col_.min(axis=0)\n",
    "  max_ = col_.max(axis=0)\n",
    "  return (col_ - min_) / (max_ - min_)\n",
    "\n",
    "def normalize_columns(data):\n",
    "    for col in range(data.shape[1]):\n",
    "        data[:, col] = normalize_column(data[:,col])\n",
    "    return data\n",
    "\n",
    "# Concatenate and normalize the arguments.\n",
    "#\n",
    "# Both args must have the same number of columns.\n",
    "# This function will concatenate both arguments (axis=0) and normalizes the concatenated data.\n",
    "#\n",
    "# Arguments:\n",
    "# - points as (multi dimensional) array\n",
    "# - a single point as one dimensional array\n",
    "#\n",
    "# Return:\n",
    "# A tuple with the normalized points and the normalized point.\n",
    "#\n",
    "def normalize(points_, point_ ):\n",
    "    data_ = np.concatenate((points_, point_), axis=0)\n",
    "    data_ = normalize_columns(data_)\n",
    "    points_norm = data_[:-1] # all rows but last row\n",
    "    point_norm  = data_[-1:] # only last row\n",
    "    return points_norm, point_norm\n",
    "\n",
    "# Calculate the square-root distance between all Xi's and the actual point\n",
    "# Arguments:\n",
    "# - Xi's\n",
    "# - actual point\n",
    "# Return:\n",
    "# A array with the calculated distances\n",
    "#\n",
    "def calc_distance(points_, custom_point_):\n",
    "    distances_ = np.array([], dtype=float)\n",
    "    for row_ in range(points_.shape[0]):\n",
    "        dist = .0\n",
    "        for col_ in range(points_.shape[1]):\n",
    "            dist += (points_[row_,col_] - custom_point_[0,col_]) ** 2\n",
    "        dist = math.sqrt(dist)\n",
    "        distances_ = np.append(distances_, dist)\n",
    "    return distances_"
   ],
   "metadata": {
    "collapsed": false,
    "pycharm": {
     "name": "#%%\n"
    }
   }
  },
  {
   "cell_type": "markdown",
   "source": [
    "## Normalization\n",
    "Normalize the points in the dataset AND the point we want to categorize."
   ],
   "metadata": {
    "collapsed": false
   }
  },
  {
   "cell_type": "code",
   "execution_count": 73,
   "outputs": [
    {
     "name": "stdout",
     "output_type": "stream",
     "text": [
      "Normalized features: \n",
      "\n",
      " [[0.02 1]\n",
      " [0.01 0.961]\n",
      " [0 0.775]\n",
      " [1 0.0784]\n",
      " [0.98 0.0294]\n",
      " [0.97 0]] \n",
      "\n",
      "\n",
      "Normalized point:    \n",
      "\n",
      " [[0.17 0.863]]\n"
     ]
    }
   ],
   "source": [
    "# the point we want to categorize\n",
    "custom_point = [[18,90]]\n",
    "# extract the features from our labled dataset\n",
    "features     = dataset[1:, [1,2]].astype(float)\n",
    "# normalize all datapoints\n",
    "features_norm, custom_point_norm = normalize(features, custom_point )\n",
    "print(\"Normalized features: \\n\\n\", features_norm,    \"\\n\\n\")\n",
    "print(\"Normalized point:    \\n\\n\", custom_point_norm)"
   ],
   "metadata": {
    "collapsed": false,
    "pycharm": {
     "name": "#%%\n"
    }
   }
  },
  {
   "cell_type": "markdown",
   "source": [
    "## Calculate distances"
   ],
   "metadata": {
    "collapsed": false
   }
  },
  {
   "cell_type": "code",
   "execution_count": 74,
   "outputs": [
    {
     "name": "stdout",
     "output_type": "stream",
     "text": [
      "distances:  [0.203 0.188 0.192 1.14 1.16 1.18]\n"
     ]
    },
    {
     "data": {
      "text/plain": "array([['Movie Title', 'kicks', 'kisses', 'movie type', 'Distance'],\n       ['California Man', '3', '104', 'Romance', '0.20331971894596085'],\n       [\"He's not reall into dudes\", '2', '100', 'Romance', '0.18764777593240972'],\n       ['Beautiful Woman', '1', '81', 'Romance', '0.19153450636380823'],\n       ['Kevin Longblade', '101', '10', 'Action', '1.141949219533124'],\n       ['Robo Slayer 3000', '99', '5', 'Action', '1.162129271830137'],\n       ['Amped', '98', '2', 'Action', '1.176575158751321']], dtype='<U32')"
     },
     "execution_count": 74,
     "metadata": {},
     "output_type": "execute_result"
    }
   ],
   "source": [
    "distance = calc_distance(features_norm, custom_point_norm)\n",
    "print(\"distances: \", distance)\n",
    "# add distance column to the dataset\n",
    "distance_col = np.append([[\"Distance\"]], distance).reshape((-1,1))\n",
    "dataset = np.hstack((dataset, distance_col))\n",
    "dataset"
   ],
   "metadata": {
    "collapsed": false,
    "pycharm": {
     "name": "#%%\n"
    }
   }
  },
  {
   "cell_type": "markdown",
   "source": [
    "## Sort by distance ascending"
   ],
   "metadata": {
    "collapsed": false
   }
  },
  {
   "cell_type": "code",
   "execution_count": 75,
   "outputs": [
    {
     "data": {
      "text/plain": "array([['Movie Title', 'kicks', 'kisses', 'movie type', 'Distance'],\n       [\"He's not reall into dudes\", '2', '100', 'Romance', '0.18764777593240972'],\n       ['Beautiful Woman', '1', '81', 'Romance', '0.19153450636380823'],\n       ['California Man', '3', '104', 'Romance', '0.20331971894596085'],\n       ['Kevin Longblade', '101', '10', 'Action', '1.141949219533124'],\n       ['Robo Slayer 3000', '99', '5', 'Action', '1.162129271830137'],\n       ['Amped', '98', '2', 'Action', '1.176575158751321']], dtype='<U32')"
     },
     "execution_count": 75,
     "metadata": {},
     "output_type": "execute_result"
    }
   ],
   "source": [
    "headline = dataset[0]\n",
    "data = dataset[1:]\n",
    "data = data[np.argsort(data[:,-1])]\n",
    "dataset = np.vstack((headline, data))\n",
    "dataset"
   ],
   "metadata": {
    "collapsed": false,
    "pycharm": {
     "name": "#%%\n"
    }
   }
  },
  {
   "cell_type": "markdown",
   "source": [
    "## Calculate k\n",
    "by getting the square root of the row count and truncate the decimal part.\n",
    "But k can't be even because we need a majority, so add 1 if needed."
   ],
   "metadata": {
    "collapsed": false
   }
  },
  {
   "cell_type": "code",
   "execution_count": 76,
   "outputs": [
    {
     "name": "stdout",
     "output_type": "stream",
     "text": [
      "Value of k is:  3\n"
     ]
    }
   ],
   "source": [
    "k = int(math.sqrt(np.size(data,0)))\n",
    "if k % 2 == 0:\n",
    "    k += 1\n",
    "print(\"Value of k is: \", k)"
   ],
   "metadata": {
    "collapsed": false,
    "pycharm": {
     "name": "#%%\n"
    }
   }
  },
  {
   "cell_type": "markdown",
   "source": [
    "## Find the majority class for k sorted least distances"
   ],
   "metadata": {
    "collapsed": false
   }
  },
  {
   "cell_type": "code",
   "execution_count": 77,
   "outputs": [
    {
     "name": "stdout",
     "output_type": "stream",
     "text": [
      "majority_class:  Romance\n"
     ]
    }
   ],
   "source": [
    "majority_class = mode(data[:k,-2])[0][0]\n",
    "print(\"majority_class: \", majority_class)\n",
    "\n",
    "\n"
   ],
   "metadata": {
    "collapsed": false,
    "pycharm": {
     "name": "#%%\n"
    }
   }
  }
 ],
 "metadata": {
  "kernelspec": {
   "display_name": "Python 3",
   "language": "python",
   "name": "python3"
  },
  "language_info": {
   "codemirror_mode": {
    "name": "ipython",
    "version": 2
   },
   "file_extension": ".py",
   "mimetype": "text/x-python",
   "name": "python",
   "nbconvert_exporter": "python",
   "pygments_lexer": "ipython2",
   "version": "2.7.6"
  }
 },
 "nbformat": 4,
 "nbformat_minor": 0
}