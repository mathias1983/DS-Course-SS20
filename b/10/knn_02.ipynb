{
 "cells": [
  {
   "cell_type": "code",
   "execution_count": 42,
   "outputs": [],
   "source": [
    "import numpy as np\n",
    "from sklearn import datasets\n",
    "# Create and fit a nearest-neighbor classifier\n",
    "from sklearn.neighbors import KNeighborsClassifier"
   ],
   "metadata": {
    "collapsed": false,
    "pycharm": {
     "name": "#%%\n"
    }
   }
  },
  {
   "cell_type": "code",
   "execution_count": 43,
   "outputs": [],
   "source": [
    "iris = datasets.load_iris()\n",
    "iris_data = iris.data\n",
    "iris_labels = iris.target\n",
    "np.random.seed(42)\n",
    "indices = np.random.permutation(len(iris_data))\n",
    "n_training_samples = 12\n",
    "learnset_data = iris_data[indices[:-n_training_samples]]\n",
    "learnset_labels = iris_labels[indices[:-n_training_samples]]\n"
   ],
   "metadata": {
    "collapsed": false,
    "pycharm": {
     "name": "#%%\n"
    }
   }
  },
  {
   "cell_type": "code",
   "execution_count": 44,
   "outputs": [],
   "source": [
    "knn = KNeighborsClassifier()\n",
    "knn.fit(learnset_data, learnset_labels)\n",
    "KNeighborsClassifier(algorithm='auto',\n",
    "                     leaf_size=30,\n",
    "                     metric='minkowski',\n",
    "                     metric_params=None,\n",
    "                     n_jobs=1,\n",
    "                     n_neighbors=5,\n",
    "                     p=2,\n",
    "                     weights='uniform')\n",
    "\n",
    "iris_example = [[4.8,2.5,5.3,2.4]]\n",
    "predicted_label  = knn.predict(iris_example)"
   ],
   "metadata": {
    "collapsed": false,
    "pycharm": {
     "name": "#%%\n"
    }
   }
  },
  {
   "cell_type": "markdown",
   "source": [
    "## Result"
   ],
   "metadata": {
    "collapsed": false
   }
  },
  {
   "cell_type": "code",
   "execution_count": 45,
   "outputs": [
    {
     "name": "stdout",
     "output_type": "stream",
     "text": [
      "prediction for:    [[4.8, 2.5, 5.3, 2.4]] \n",
      "\n",
      "target names:      ['setosa' 'versicolor' 'virginica']\n",
      "predicted proba:   [[0.  0.2 0.8]] \n",
      "\n",
      "predicted label:   ['virginica']\n"
     ]
    }
   ],
   "source": [
    "print(\"prediction for:   \", iris_example,\"\\n\")\n",
    "print(\"target names:     \", iris.target_names)\n",
    "print(\"predicted proba:  \", knn.predict_proba(iris_example), \"\\n\")\n",
    "print(\"predicted label:  \", iris.target_names[predicted_label])\n",
    "\n",
    "\n",
    "\n",
    "\n",
    "\n",
    "\n"
   ],
   "metadata": {
    "collapsed": false,
    "pycharm": {
     "name": "#%%\n"
    }
   }
  }
 ],
 "metadata": {
  "kernelspec": {
   "display_name": "Python 3",
   "language": "python",
   "name": "python3"
  },
  "language_info": {
   "codemirror_mode": {
    "name": "ipython",
    "version": 2
   },
   "file_extension": ".py",
   "mimetype": "text/x-python",
   "name": "python",
   "nbconvert_exporter": "python",
   "pygments_lexer": "ipython2",
   "version": "2.7.6"
  }
 },
 "nbformat": 4,
 "nbformat_minor": 0
}