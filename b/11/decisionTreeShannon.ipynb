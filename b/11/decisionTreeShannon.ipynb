{
 "cells": [
  {
   "cell_type": "code",
   "execution_count": 180,
   "metadata": {
    "collapsed": true
   },
   "outputs": [],
   "source": [
    "import pandas as pd\n",
    "from sklearn.preprocessing import LabelEncoder\n",
    "from sklearn.tree import DecisionTreeClassifier\n",
    "from sklearn.tree import export_graphviz\n"
   ]
  },
  {
   "cell_type": "code",
   "execution_count": 181,
   "outputs": [
    {
     "data": {
      "text/plain": "        Age  Income Student Credit_rating Buys_computer\n1      <=30    High      No          Fair            No\n2      <=30    High      No     Excellent            No\n3   31...40    High      No          Fair           Yes\n4       >40  Medium      No          Fair           Yes\n5       >40     Low     Yes          Fair           Yes\n6       >40     Low     Yes     Excellent            No\n7   31...40     Low     Yes     Excellent           Yes\n8      <=30  Medium      No          Fair            No\n9      <=30     Low     Yes          Fair           Yes\n10      >40  Medium     Yes          Fair           Yes\n11     <=30  Medium     Yes     Excellent           Yes\n12  31...40  Medium      No     Excellent           Yes\n13  31...40    High     Yes          Fair           Yes\n14      >40  Medium      No     Excellent            No\n15     <=30  Medium      No     Excellent            No\n16     <=30     Low      No          Fair            No\n17     <=30     Low      No     Excellent            No\n18  31...40     Low     Yes          Fair           Yes\n19      >40  Medium     Yes     Excellent           Yes\n20  31...40    High      No     Excellent           Yes",
      "text/html": "<div>\n<style scoped>\n    .dataframe tbody tr th:only-of-type {\n        vertical-align: middle;\n    }\n\n    .dataframe tbody tr th {\n        vertical-align: top;\n    }\n\n    .dataframe thead th {\n        text-align: right;\n    }\n</style>\n<table border=\"1\" class=\"dataframe\">\n  <thead>\n    <tr style=\"text-align: right;\">\n      <th></th>\n      <th>Age</th>\n      <th>Income</th>\n      <th>Student</th>\n      <th>Credit_rating</th>\n      <th>Buys_computer</th>\n    </tr>\n  </thead>\n  <tbody>\n    <tr>\n      <th>1</th>\n      <td>&lt;=30</td>\n      <td>High</td>\n      <td>No</td>\n      <td>Fair</td>\n      <td>No</td>\n    </tr>\n    <tr>\n      <th>2</th>\n      <td>&lt;=30</td>\n      <td>High</td>\n      <td>No</td>\n      <td>Excellent</td>\n      <td>No</td>\n    </tr>\n    <tr>\n      <th>3</th>\n      <td>31...40</td>\n      <td>High</td>\n      <td>No</td>\n      <td>Fair</td>\n      <td>Yes</td>\n    </tr>\n    <tr>\n      <th>4</th>\n      <td>&gt;40</td>\n      <td>Medium</td>\n      <td>No</td>\n      <td>Fair</td>\n      <td>Yes</td>\n    </tr>\n    <tr>\n      <th>5</th>\n      <td>&gt;40</td>\n      <td>Low</td>\n      <td>Yes</td>\n      <td>Fair</td>\n      <td>Yes</td>\n    </tr>\n    <tr>\n      <th>6</th>\n      <td>&gt;40</td>\n      <td>Low</td>\n      <td>Yes</td>\n      <td>Excellent</td>\n      <td>No</td>\n    </tr>\n    <tr>\n      <th>7</th>\n      <td>31...40</td>\n      <td>Low</td>\n      <td>Yes</td>\n      <td>Excellent</td>\n      <td>Yes</td>\n    </tr>\n    <tr>\n      <th>8</th>\n      <td>&lt;=30</td>\n      <td>Medium</td>\n      <td>No</td>\n      <td>Fair</td>\n      <td>No</td>\n    </tr>\n    <tr>\n      <th>9</th>\n      <td>&lt;=30</td>\n      <td>Low</td>\n      <td>Yes</td>\n      <td>Fair</td>\n      <td>Yes</td>\n    </tr>\n    <tr>\n      <th>10</th>\n      <td>&gt;40</td>\n      <td>Medium</td>\n      <td>Yes</td>\n      <td>Fair</td>\n      <td>Yes</td>\n    </tr>\n    <tr>\n      <th>11</th>\n      <td>&lt;=30</td>\n      <td>Medium</td>\n      <td>Yes</td>\n      <td>Excellent</td>\n      <td>Yes</td>\n    </tr>\n    <tr>\n      <th>12</th>\n      <td>31...40</td>\n      <td>Medium</td>\n      <td>No</td>\n      <td>Excellent</td>\n      <td>Yes</td>\n    </tr>\n    <tr>\n      <th>13</th>\n      <td>31...40</td>\n      <td>High</td>\n      <td>Yes</td>\n      <td>Fair</td>\n      <td>Yes</td>\n    </tr>\n    <tr>\n      <th>14</th>\n      <td>&gt;40</td>\n      <td>Medium</td>\n      <td>No</td>\n      <td>Excellent</td>\n      <td>No</td>\n    </tr>\n    <tr>\n      <th>15</th>\n      <td>&lt;=30</td>\n      <td>Medium</td>\n      <td>No</td>\n      <td>Excellent</td>\n      <td>No</td>\n    </tr>\n    <tr>\n      <th>16</th>\n      <td>&lt;=30</td>\n      <td>Low</td>\n      <td>No</td>\n      <td>Fair</td>\n      <td>No</td>\n    </tr>\n    <tr>\n      <th>17</th>\n      <td>&lt;=30</td>\n      <td>Low</td>\n      <td>No</td>\n      <td>Excellent</td>\n      <td>No</td>\n    </tr>\n    <tr>\n      <th>18</th>\n      <td>31...40</td>\n      <td>Low</td>\n      <td>Yes</td>\n      <td>Fair</td>\n      <td>Yes</td>\n    </tr>\n    <tr>\n      <th>19</th>\n      <td>&gt;40</td>\n      <td>Medium</td>\n      <td>Yes</td>\n      <td>Excellent</td>\n      <td>Yes</td>\n    </tr>\n    <tr>\n      <th>20</th>\n      <td>31...40</td>\n      <td>High</td>\n      <td>No</td>\n      <td>Excellent</td>\n      <td>Yes</td>\n    </tr>\n  </tbody>\n</table>\n</div>"
     },
     "execution_count": 181,
     "metadata": {},
     "output_type": "execute_result"
    }
   ],
   "source": [
    "data = [[\"<=30\",\"High\",\"No\",\"Fair\",\"No\"],\n",
    "       [\"<=30\",\"High\",\"No\",\"Excellent\",\"No\"],\n",
    "       [\"31...40\",\"High\",\"No\",\"Fair\",\"Yes\"],\n",
    "       [\">40\",\"Medium\",\"No\",\"Fair\",\"Yes\"],\n",
    "       [\">40\",\"Low\",\"Yes\",\"Fair\",\"Yes\"],\n",
    "       [\">40\",\"Low\",\"Yes\",\"Excellent\",\"No\"],\n",
    "       [\"31...40\",\"Low\",\"Yes\",\"Excellent\",\"Yes\"],\n",
    "       [\"<=30\",\"Medium\",\"No\",\"Fair\",\"No\"],\n",
    "       [\"<=30\",\"Low\",\"Yes\",\"Fair\",\"Yes\"],\n",
    "       [\">40\",\"Medium\",\"Yes\",\"Fair\",\"Yes\"],\n",
    "       [\"<=30\",\"Medium\",\"Yes\",\"Excellent\",\"Yes\"],\n",
    "       [\"31...40\",\"Medium\",\"No\",\"Excellent\",\"Yes\"],\n",
    "       [\"31...40\",\"High\",\"Yes\",\"Fair\",\"Yes\"],\n",
    "       [\">40\",\"Medium\",\"No\",\"Excellent\",\"No\"],\n",
    "       [\"<=30\",\"Medium\",\"No\",\"Excellent\",\"No\"],\n",
    "       [\"<=30\",\"Low\",\"No\",\"Fair\",\"No\"],\n",
    "       [\"<=30\",\"Low\",\"No\",\"Excellent\",\"No\"],\n",
    "       [\"31...40\",\"Low\",\"Yes\",\"Fair\",\"Yes\"],\n",
    "       [\">40\",\"Medium\",\"Yes\",\"Excellent\",\"Yes\"],\n",
    "       [\"31...40\",\"High\",\"No\",\"Excellent\",\"Yes\"],\n",
    "       ]\n",
    "\n",
    "df = pd.DataFrame(\n",
    "    data=data,\n",
    "    index=range(1,len(data)+1),\n",
    "    columns=[\"Age\", \"Income\", \"Student\", \"Credit_rating\", \"Buys_computer\"]\n",
    ")\n",
    "df"
   ],
   "metadata": {
    "collapsed": false,
    "pycharm": {
     "name": "#%%\n"
    }
   }
  },
  {
   "cell_type": "code",
   "execution_count": 182,
   "outputs": [
    {
     "name": "stdout",
     "output_type": "stream",
     "text": [
      "Buys_computer total:  20\n",
      "Buys_computer yes:    12\n",
      "Buys_computer no:     8\n"
     ]
    }
   ],
   "source": [
    "print(\"Buys_computer total: \", df['Buys_computer'].count())\n",
    "print(\"Buys_computer yes:   \", df[df['Buys_computer'] == 'Yes']['Buys_computer'].count())\n",
    "print(\"Buys_computer no:    \", df[df['Buys_computer'] == 'No']['Buys_computer'].count())\n"
   ],
   "metadata": {
    "collapsed": false,
    "pycharm": {
     "name": "#%%\n"
    }
   }
  },
  {
   "cell_type": "markdown",
   "source": [
    "## Better representation of the groups\n",
    "hier konkret für 'Credit_rating'"
   ],
   "metadata": {
    "collapsed": false
   }
  },
  {
   "cell_type": "code",
   "execution_count": 183,
   "outputs": [
    {
     "name": "stdout",
     "output_type": "stream",
     "text": [
      "total count :  20\n"
     ]
    },
    {
     "data": {
      "text/plain": "  Credit_rating Buys_computer  count\n0     Excellent           Yes      5\n1     Excellent            No      5\n2          Fair           Yes      7\n3          Fair            No      3",
      "text/html": "<div>\n<style scoped>\n    .dataframe tbody tr th:only-of-type {\n        vertical-align: middle;\n    }\n\n    .dataframe tbody tr th {\n        vertical-align: top;\n    }\n\n    .dataframe thead th {\n        text-align: right;\n    }\n</style>\n<table border=\"1\" class=\"dataframe\">\n  <thead>\n    <tr style=\"text-align: right;\">\n      <th></th>\n      <th>Credit_rating</th>\n      <th>Buys_computer</th>\n      <th>count</th>\n    </tr>\n  </thead>\n  <tbody>\n    <tr>\n      <th>0</th>\n      <td>Excellent</td>\n      <td>Yes</td>\n      <td>5</td>\n    </tr>\n    <tr>\n      <th>1</th>\n      <td>Excellent</td>\n      <td>No</td>\n      <td>5</td>\n    </tr>\n    <tr>\n      <th>2</th>\n      <td>Fair</td>\n      <td>Yes</td>\n      <td>7</td>\n    </tr>\n    <tr>\n      <th>3</th>\n      <td>Fair</td>\n      <td>No</td>\n      <td>3</td>\n    </tr>\n  </tbody>\n</table>\n</div>"
     },
     "execution_count": 183,
     "metadata": {},
     "output_type": "execute_result"
    }
   ],
   "source": [
    "node = df.groupby(\n",
    "    ['Credit_rating', 'Buys_computer']\n",
    ")['Buys_computer']\\\n",
    "    .count()\\\n",
    "    .unstack(fill_value=0).stack()\\\n",
    "    .to_frame('count')\\\n",
    "    .sort_values(by=[df.columns[3] ,'Buys_computer'], ascending=[True,False])\\\n",
    "    .reset_index()\n",
    "\n",
    "print(\"total count : \", node['count'].sum())\n",
    "node"
   ],
   "metadata": {
    "collapsed": false,
    "pycharm": {
     "name": "#%%\n"
    }
   }
  },
  {
   "cell_type": "markdown",
   "source": [
    "## Select data and classes"
   ],
   "metadata": {
    "collapsed": false
   }
  },
  {
   "cell_type": "code",
   "execution_count": 184,
   "outputs": [],
   "source": [
    "import warnings\n",
    "warnings.filterwarnings(\"ignore\")\n",
    "x = df.iloc[:,:-1]\n",
    "y = df.iloc[:,-1]"
   ],
   "metadata": {
    "collapsed": false,
    "pycharm": {
     "name": "#%%\n"
    }
   }
  },
  {
   "cell_type": "markdown",
   "source": [
    "## Data encoding for fit function\n",
    "Encode the the string values to int because the fit function doesn't accept strings but ints."
   ],
   "metadata": {
    "collapsed": false
   }
  },
  {
   "cell_type": "code",
   "execution_count": 185,
   "outputs": [],
   "source": [
    "le = LabelEncoder()\n",
    "le.fit(x['Age'].astype(str))\n",
    "x['Age'] = le.transform(x['Age'].astype(str))\n",
    "le.fit(x['Income'].astype(str))\n",
    "x['Income'] = le.transform(x['Income'].astype(str))\n",
    "le.fit(x['Student'].astype(str))\n",
    "x['Student'] = le.transform(x['Student'].astype(str))\n",
    "le.fit(x['Credit_rating'].astype(str))\n",
    "x['Credit_rating'] = le.transform(x['Credit_rating'].astype(str))"
   ],
   "metadata": {
    "collapsed": false,
    "pycharm": {
     "name": "#%%\n"
    }
   }
  },
  {
   "cell_type": "markdown",
   "source": [
    "## Build the decision tree"
   ],
   "metadata": {
    "collapsed": false
   }
  },
  {
   "cell_type": "code",
   "execution_count": 186,
   "outputs": [
    {
     "data": {
      "text/plain": "DecisionTreeClassifier(criterion='entropy', max_depth=4)"
     },
     "execution_count": 186,
     "metadata": {},
     "output_type": "execute_result"
    }
   ],
   "source": [
    "tree_clf = DecisionTreeClassifier(max_depth=4,criterion='entropy')\n",
    "tree_clf.fit(x, y)\n"
   ],
   "metadata": {
    "collapsed": false,
    "pycharm": {
     "name": "#%%\n"
    }
   }
  },
  {
   "cell_type": "markdown",
   "source": [
    "## Export the graph"
   ],
   "metadata": {
    "collapsed": false
   }
  },
  {
   "cell_type": "code",
   "execution_count": 187,
   "outputs": [
    {
     "name": "stdout",
     "output_type": "stream",
     "text": [
      "digraph Tree {\n",
      "node [shape=box, style=\"filled, rounded\", color=\"black\", fontname=helvetica] ;\n",
      "edge [fontname=helvetica] ;\n",
      "0 [label=\"Age <= 0.5\\nentropy = 0.971\\nsamples = 20\\nvalue = [8, 12]\\nclass = Yes\", fillcolor=\"#bddef6\"] ;\n",
      "1 [label=\"entropy = 0.0\\nsamples = 6\\nvalue = [0, 6]\\nclass = Yes\", fillcolor=\"#399de5\"] ;\n",
      "0 -> 1 [labeldistance=2.5, labelangle=45, headlabel=\"True\"] ;\n",
      "2 [label=\"Student <= 0.5\\nentropy = 0.985\\nsamples = 14\\nvalue = [8, 6]\\nclass = No\", fillcolor=\"#f8e0ce\"] ;\n",
      "0 -> 2 [labeldistance=2.5, labelangle=-45, headlabel=\"False\"] ;\n",
      "3 [label=\"Age <= 1.5\\nentropy = 0.544\\nsamples = 8\\nvalue = [7, 1]\\nclass = No\", fillcolor=\"#e99355\"] ;\n",
      "2 -> 3 ;\n",
      "4 [label=\"entropy = 0.0\\nsamples = 6\\nvalue = [6, 0]\\nclass = No\", fillcolor=\"#e58139\"] ;\n",
      "3 -> 4 ;\n",
      "5 [label=\"Credit_rating <= 0.5\\nentropy = 1.0\\nsamples = 2\\nvalue = [1, 1]\\nclass = No\", fillcolor=\"#ffffff\"] ;\n",
      "3 -> 5 ;\n",
      "6 [label=\"entropy = 0.0\\nsamples = 1\\nvalue = [1, 0]\\nclass = No\", fillcolor=\"#e58139\"] ;\n",
      "5 -> 6 ;\n",
      "7 [label=\"entropy = 0.0\\nsamples = 1\\nvalue = [0, 1]\\nclass = Yes\", fillcolor=\"#399de5\"] ;\n",
      "5 -> 7 ;\n",
      "8 [label=\"Income <= 1.5\\nentropy = 0.65\\nsamples = 6\\nvalue = [1, 5]\\nclass = Yes\", fillcolor=\"#61b1ea\"] ;\n",
      "2 -> 8 ;\n",
      "9 [label=\"Credit_rating <= 0.5\\nentropy = 0.918\\nsamples = 3\\nvalue = [1, 2]\\nclass = Yes\", fillcolor=\"#9ccef2\"] ;\n",
      "8 -> 9 ;\n",
      "10 [label=\"entropy = 0.0\\nsamples = 1\\nvalue = [1, 0]\\nclass = No\", fillcolor=\"#e58139\"] ;\n",
      "9 -> 10 ;\n",
      "11 [label=\"entropy = 0.0\\nsamples = 2\\nvalue = [0, 2]\\nclass = Yes\", fillcolor=\"#399de5\"] ;\n",
      "9 -> 11 ;\n",
      "12 [label=\"entropy = 0.0\\nsamples = 3\\nvalue = [0, 3]\\nclass = Yes\", fillcolor=\"#399de5\"] ;\n",
      "8 -> 12 ;\n",
      "}\n"
     ]
    }
   ],
   "source": [
    "print(export_graphviz(\n",
    "         tree_clf,\n",
    "         feature_names=list(x.columns),\n",
    "         class_names=tree_clf.classes_,\n",
    "         rounded=True,\n",
    "         filled=True\n",
    " ))"
   ],
   "metadata": {
    "collapsed": false,
    "pycharm": {
     "name": "#%%\n"
    }
   }
  },
  {
   "cell_type": "markdown",
   "source": [
    "##Drawing of the graph is in the pdf doc\n",
    "\n",
    "\n",
    "\n",
    "\n"
   ],
   "metadata": {
    "collapsed": false,
    "pycharm": {
     "name": "#%% md\n"
    }
   }
  }
 ],
 "metadata": {
  "kernelspec": {
   "display_name": "Python 3",
   "language": "python",
   "name": "python3"
  },
  "language_info": {
   "codemirror_mode": {
    "name": "ipython",
    "version": 2
   },
   "file_extension": ".py",
   "mimetype": "text/x-python",
   "name": "python",
   "nbconvert_exporter": "python",
   "pygments_lexer": "ipython2",
   "version": "2.7.6"
  }
 },
 "nbformat": 4,
 "nbformat_minor": 0
}